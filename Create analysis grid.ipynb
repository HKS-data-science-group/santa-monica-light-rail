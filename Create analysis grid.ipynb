{
 "cells": [
  {
   "cell_type": "code",
   "execution_count": 1,
   "metadata": {
    "collapsed": true
   },
   "outputs": [],
   "source": [
    "import pandas as pd\n",
    "import numpy as np\n",
    "import gmaps\n",
    "import gmaps.datasets\n",
    "import os\n",
    "import pickle\n",
    "\n",
    "gmaps.configure(os.environ['GOOGLE_MAPS'])"
   ]
  },
  {
   "cell_type": "code",
   "execution_count": 2,
   "metadata": {},
   "outputs": [
    {
     "name": "stderr",
     "output_type": "stream",
     "text": [
      "/Users/brianho/anaconda2/lib/python2.7/site-packages/IPython/core/interactiveshell.py:2723: DtypeWarning: Columns (0,2) have mixed types. Specify dtype option on import or set low_memory=False.\n",
      "  interactivity=interactivity, compiler=compiler, result=result)\n"
     ]
    },
    {
     "data": {
      "text/html": [
       "<div>\n",
       "<style scoped>\n",
       "    .dataframe tbody tr th:only-of-type {\n",
       "        vertical-align: middle;\n",
       "    }\n",
       "\n",
       "    .dataframe tbody tr th {\n",
       "        vertical-align: top;\n",
       "    }\n",
       "\n",
       "    .dataframe thead th {\n",
       "        text-align: right;\n",
       "    }\n",
       "</style>\n",
       "<table border=\"1\" class=\"dataframe\">\n",
       "  <thead>\n",
       "    <tr style=\"text-align: right;\">\n",
       "      <th></th>\n",
       "      <th>Incident Number</th>\n",
       "      <th>Date Occurred</th>\n",
       "      <th>UCR</th>\n",
       "      <th>UCR Description</th>\n",
       "      <th>Location</th>\n",
       "      <th>Gang Related</th>\n",
       "      <th>Latitude</th>\n",
       "      <th>Longitude</th>\n",
       "      <th>Map Point</th>\n",
       "      <th>Line_Open</th>\n",
       "      <th>Month</th>\n",
       "      <th>Year</th>\n",
       "      <th>Day_Of_Week</th>\n",
       "      <th>Day_Delta</th>\n",
       "      <th>UCR Level 2</th>\n",
       "      <th>UCR Level 1</th>\n",
       "      <th>one_mile</th>\n",
       "      <th>half_mile</th>\n",
       "    </tr>\n",
       "  </thead>\n",
       "  <tbody>\n",
       "    <tr>\n",
       "      <th>0</th>\n",
       "      <td>090033416</td>\n",
       "      <td>2009-04-02</td>\n",
       "      <td>1823</td>\n",
       "      <td>Narco Possess-Synthetic</td>\n",
       "      <td>1600BLK OCEAN FRONT WALK</td>\n",
       "      <td>False</td>\n",
       "      <td>34.010298</td>\n",
       "      <td>-118.495739</td>\n",
       "      <td>(34.0102977457032, -118.495738552074)</td>\n",
       "      <td>False</td>\n",
       "      <td>4</td>\n",
       "      <td>2009</td>\n",
       "      <td>3</td>\n",
       "      <td>-2605</td>\n",
       "      <td>Narcotics</td>\n",
       "      <td>Non-Violent</td>\n",
       "      <td>1</td>\n",
       "      <td>1</td>\n",
       "    </tr>\n",
       "    <tr>\n",
       "      <th>1</th>\n",
       "      <td>090034125</td>\n",
       "      <td>2009-04-03</td>\n",
       "      <td>2300</td>\n",
       "      <td>Public Intoxication</td>\n",
       "      <td>STEWART ST / PICO BLVD</td>\n",
       "      <td>False</td>\n",
       "      <td>34.024252</td>\n",
       "      <td>-118.460508</td>\n",
       "      <td>(34.0242518901242, -118.460507893009)</td>\n",
       "      <td>False</td>\n",
       "      <td>4</td>\n",
       "      <td>2009</td>\n",
       "      <td>4</td>\n",
       "      <td>-2604</td>\n",
       "      <td>Public Intoxication</td>\n",
       "      <td>Non-Violent</td>\n",
       "      <td>1</td>\n",
       "      <td>0</td>\n",
       "    </tr>\n",
       "    <tr>\n",
       "      <th>2</th>\n",
       "      <td>090034163</td>\n",
       "      <td>2009-04-03</td>\n",
       "      <td>1822</td>\n",
       "      <td>Narco Possess-Marijuana</td>\n",
       "      <td>500BLK LINCOLN BLVD</td>\n",
       "      <td>False</td>\n",
       "      <td>34.029983</td>\n",
       "      <td>-118.503646</td>\n",
       "      <td>(34.0299830211087, -118.503646242239)</td>\n",
       "      <td>False</td>\n",
       "      <td>4</td>\n",
       "      <td>2009</td>\n",
       "      <td>4</td>\n",
       "      <td>-2604</td>\n",
       "      <td>Narcotics</td>\n",
       "      <td>Non-Violent</td>\n",
       "      <td>0</td>\n",
       "      <td>0</td>\n",
       "    </tr>\n",
       "    <tr>\n",
       "      <th>3</th>\n",
       "      <td>090034227</td>\n",
       "      <td>2009-04-04</td>\n",
       "      <td>2300</td>\n",
       "      <td>Public Intoxication</td>\n",
       "      <td>26TH ST / SANTA MONICA BLVD</td>\n",
       "      <td>False</td>\n",
       "      <td>34.033306</td>\n",
       "      <td>-118.474302</td>\n",
       "      <td>(34.0333062753406, -118.474302319364)</td>\n",
       "      <td>False</td>\n",
       "      <td>4</td>\n",
       "      <td>2009</td>\n",
       "      <td>5</td>\n",
       "      <td>-2603</td>\n",
       "      <td>Public Intoxication</td>\n",
       "      <td>Non-Violent</td>\n",
       "      <td>1</td>\n",
       "      <td>0</td>\n",
       "    </tr>\n",
       "    <tr>\n",
       "      <th>4</th>\n",
       "      <td>090034245</td>\n",
       "      <td>2009-04-04</td>\n",
       "      <td>1400</td>\n",
       "      <td>Vandalism</td>\n",
       "      <td>100BLK KINNEY ST</td>\n",
       "      <td>False</td>\n",
       "      <td>33.998859</td>\n",
       "      <td>-118.480934</td>\n",
       "      <td>(33.9988589911957, -118.480933903635)</td>\n",
       "      <td>False</td>\n",
       "      <td>4</td>\n",
       "      <td>2009</td>\n",
       "      <td>5</td>\n",
       "      <td>-2603</td>\n",
       "      <td>Vandalism</td>\n",
       "      <td>Non-Violent</td>\n",
       "      <td>0</td>\n",
       "      <td>0</td>\n",
       "    </tr>\n",
       "  </tbody>\n",
       "</table>\n",
       "</div>"
      ],
      "text/plain": [
       "  Incident Number Date Occurred   UCR          UCR Description  \\\n",
       "0       090033416    2009-04-02  1823  Narco Possess-Synthetic   \n",
       "1       090034125    2009-04-03  2300      Public Intoxication   \n",
       "2       090034163    2009-04-03  1822  Narco Possess-Marijuana   \n",
       "3       090034227    2009-04-04  2300      Public Intoxication   \n",
       "4       090034245    2009-04-04  1400                Vandalism   \n",
       "\n",
       "                      Location  Gang Related   Latitude   Longitude  \\\n",
       "0     1600BLK OCEAN FRONT WALK         False  34.010298 -118.495739   \n",
       "1       STEWART ST / PICO BLVD         False  34.024252 -118.460508   \n",
       "2          500BLK LINCOLN BLVD         False  34.029983 -118.503646   \n",
       "3  26TH ST / SANTA MONICA BLVD         False  34.033306 -118.474302   \n",
       "4             100BLK KINNEY ST         False  33.998859 -118.480934   \n",
       "\n",
       "                               Map Point  Line_Open  Month  Year  Day_Of_Week  \\\n",
       "0  (34.0102977457032, -118.495738552074)      False      4  2009            3   \n",
       "1  (34.0242518901242, -118.460507893009)      False      4  2009            4   \n",
       "2  (34.0299830211087, -118.503646242239)      False      4  2009            4   \n",
       "3  (34.0333062753406, -118.474302319364)      False      4  2009            5   \n",
       "4  (33.9988589911957, -118.480933903635)      False      4  2009            5   \n",
       "\n",
       "   Day_Delta          UCR Level 2  UCR Level 1  one_mile  half_mile  \n",
       "0      -2605            Narcotics  Non-Violent         1          1  \n",
       "1      -2604  Public Intoxication  Non-Violent         1          0  \n",
       "2      -2604            Narcotics  Non-Violent         0          0  \n",
       "3      -2603  Public Intoxication  Non-Violent         1          0  \n",
       "4      -2603            Vandalism  Non-Violent         0          0  "
      ]
     },
     "execution_count": 2,
     "metadata": {},
     "output_type": "execute_result"
    }
   ],
   "source": [
    "df = pd.read_csv(\"Data/Police_Incidents_Final.csv\")\n",
    "df.head()"
   ]
  },
  {
   "cell_type": "code",
   "execution_count": 5,
   "metadata": {},
   "outputs": [
    {
     "data": {
      "text/plain": [
       "500"
      ]
     },
     "execution_count": 5,
     "metadata": {},
     "output_type": "execute_result"
    }
   ],
   "source": [
    "sample = df[df.Year==2017].head(500)\n",
    "locations = zip(sample['Latitude'],sample['Longitude'])\n",
    "len(locations)"
   ]
  },
  {
   "cell_type": "code",
   "execution_count": 6,
   "metadata": {},
   "outputs": [
    {
     "data": {
      "application/vnd.jupyter.widget-view+json": {
       "model_id": "67c1951577d74c5788f315ab8a6a029f",
       "version_major": 2,
       "version_minor": 0
      },
      "text/plain": [
       "A Jupyter Widget"
      ]
     },
     "metadata": {},
     "output_type": "display_data"
    }
   ],
   "source": [
    "fig = gmaps.figure()\n",
    "fig.add_layer(gmaps.symbol_layer(locations))\n",
    "fig"
   ]
  },
  {
   "cell_type": "code",
   "execution_count": 4,
   "metadata": {
    "collapsed": true
   },
   "outputs": [],
   "source": [
    "df['Latitude_round'] = df['Latitude'].round(3)\n",
    "df['Longitude_round'] = df['Longitude'].round(3)"
   ]
  },
  {
   "cell_type": "code",
   "execution_count": 5,
   "metadata": {},
   "outputs": [
    {
     "data": {
      "text/plain": [
       "500"
      ]
     },
     "execution_count": 5,
     "metadata": {},
     "output_type": "execute_result"
    }
   ],
   "source": [
    "sample = df[df.Year==2017].head(500)\n",
    "locations = zip(sample['Latitude_round'],sample['Longitude_round'])\n",
    "len(locations)"
   ]
  },
  {
   "cell_type": "code",
   "execution_count": 6,
   "metadata": {},
   "outputs": [
    {
     "data": {
      "application/vnd.jupyter.widget-view+json": {
       "model_id": "fb0f5f0d33ad41a38a826dad105e21fb",
       "version_major": 2,
       "version_minor": 0
      },
      "text/plain": [
       "A Jupyter Widget"
      ]
     },
     "metadata": {},
     "output_type": "display_data"
    }
   ],
   "source": [
    "fig = gmaps.figure()\n",
    "fig.add_layer(gmaps.symbol_layer(locations))\n",
    "fig"
   ]
  },
  {
   "cell_type": "code",
   "execution_count": 12,
   "metadata": {},
   "outputs": [
    {
     "name": "stdout",
     "output_type": "stream",
     "text": [
      "1673\n"
     ]
    }
   ],
   "source": [
    "df['grid'] = df['Latitude_round'].astype(str) + ',' + df['Longitude_round'].astype(str)\n",
    "print len(df.grid.unique())"
   ]
  },
  {
   "cell_type": "code",
   "execution_count": 14,
   "metadata": {
    "collapsed": true
   },
   "outputs": [],
   "source": [
    "df.to_csv('Police_Incidents_grid.csv')"
   ]
  }
 ],
 "metadata": {
  "kernelspec": {
   "display_name": "Python [conda root]",
   "language": "python",
   "name": "conda-root-py"
  },
  "language_info": {
   "codemirror_mode": {
    "name": "ipython",
    "version": 2
   },
   "file_extension": ".py",
   "mimetype": "text/x-python",
   "name": "python",
   "nbconvert_exporter": "python",
   "pygments_lexer": "ipython2",
   "version": "2.7.12"
  }
 },
 "nbformat": 4,
 "nbformat_minor": 2
}
