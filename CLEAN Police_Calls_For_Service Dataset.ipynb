{
 "cells": [
  {
   "cell_type": "code",
   "execution_count": 1,
   "metadata": {
    "collapsed": true
   },
   "outputs": [],
   "source": [
    "import pandas as pd\n",
    "import matplotlib as plt\n",
    "import numpy as np\n",
    "import datetime\n",
    "\n",
    "%matplotlib inline"
   ]
  },
  {
   "cell_type": "code",
   "execution_count": 2,
   "metadata": {},
   "outputs": [
    {
     "name": "stderr",
     "output_type": "stream",
     "text": [
      "C:\\Users\\chao_gu\\Anaconda3\\envs\\ml\\lib\\site-packages\\IPython\\core\\interactiveshell.py:2698: DtypeWarning: Columns (0) have mixed types. Specify dtype option on import or set low_memory=False.\n",
      "  interactivity=interactivity, compiler=compiler, result=result)\n"
     ]
    }
   ],
   "source": [
    "df = pd.read_csv('./Data/Police_Calls_For_Service.csv')"
   ]
  },
  {
   "cell_type": "code",
   "execution_count": 3,
   "metadata": {},
   "outputs": [
    {
     "name": "stdout",
     "output_type": "stream",
     "text": [
      "(1407125, 16)\n"
     ]
    }
   ],
   "source": [
    "print(df.shape)"
   ]
  },
  {
   "cell_type": "code",
   "execution_count": 4,
   "metadata": {},
   "outputs": [
    {
     "name": "stdout",
     "output_type": "stream",
     "text": [
      "<class 'pandas.core.frame.DataFrame'>\n",
      "RangeIndex: 1407125 entries, 0 to 1407124\n",
      "Data columns (total 16 columns):\n",
      "Incident Number            1407125 non-null object\n",
      "Call Type                  1390119 non-null object\n",
      "Incident Date              1407125 non-null object\n",
      "Location                   1405134 non-null object\n",
      "Beat                       1406999 non-null object\n",
      "Reporting District         1406762 non-null object\n",
      "Received Time              1407124 non-null object\n",
      "Cleared Time               1403566 non-null object\n",
      "Disposition                1403279 non-null object\n",
      "Latitude                   1347999 non-null float64\n",
      "Longitude                  1347999 non-null float64\n",
      "Map Point                  1347999 non-null object\n",
      "Census Block 2000 GeoId    524646 non-null float64\n",
      "Census Tract 2000 GeoId    524646 non-null float64\n",
      "Census Block 2010 GeoId    858647 non-null float64\n",
      "Census Tract 2010 GeoId    858647 non-null float64\n",
      "dtypes: float64(6), object(10)\n",
      "memory usage: 171.8+ MB\n"
     ]
    }
   ],
   "source": [
    "df.info()"
   ]
  },
  {
   "cell_type": "code",
   "execution_count": 5,
   "metadata": {
    "collapsed": true
   },
   "outputs": [],
   "source": [
    "# drop  Census GeoId columns since they are hard to use and location related information should be sufficient, \n",
    "# also drop map point column since we already have latitude&longtitude\n",
    "df_clean = df.drop(['Map Point','Census Block 2000 GeoId','Census Tract 2000 GeoId',\n",
    "                    'Census Block 2010 GeoId','Census Tract 2010 GeoId'],axis = 1)"
   ]
  },
  {
   "cell_type": "markdown",
   "metadata": {},
   "source": [
    "### create features for datetime data"
   ]
  },
  {
   "cell_type": "code",
   "execution_count": 6,
   "metadata": {},
   "outputs": [
    {
     "data": {
      "text/plain": [
       "Incident Number           0\n",
       "Call Type             17006\n",
       "Incident Date             0\n",
       "Location               1991\n",
       "Beat                    126\n",
       "Reporting District      363\n",
       "Received Time             1\n",
       "Cleared Time           3559\n",
       "Disposition            3846\n",
       "Latitude              59126\n",
       "Longitude             59126\n",
       "dtype: int64"
      ]
     },
     "execution_count": 6,
     "metadata": {},
     "output_type": "execute_result"
    }
   ],
   "source": [
    "df_clean.isnull().sum()"
   ]
  },
  {
   "cell_type": "code",
   "execution_count": 7,
   "metadata": {
    "collapsed": true
   },
   "outputs": [],
   "source": [
    "# mark if reveived time and cleared time have the same value already\n",
    "df_clean['time mark'] = (df_clean['Received Time'] == df_clean['Cleared Time'])"
   ]
  },
  {
   "cell_type": "code",
   "execution_count": 8,
   "metadata": {
    "collapsed": true
   },
   "outputs": [],
   "source": [
    "#replace the null \"received time\" data with \"cleared time\" data\n",
    "df_clean.loc[df_clean['Received Time'].isnull(),'Received Time']= df_clean.loc[df_clean['Received Time'].isnull(),'Cleared Time'].copy()"
   ]
  },
  {
   "cell_type": "code",
   "execution_count": 9,
   "metadata": {
    "collapsed": true
   },
   "outputs": [],
   "source": [
    "#replace the null \"cleared time\" data with \"received time\" data\n",
    "df_clean.loc[df_clean['Cleared Time'].isnull(),'Cleared Time'] = df_clean.loc[df_clean['Cleared Time'].isnull(),'Received Time'].copy()"
   ]
  },
  {
   "cell_type": "code",
   "execution_count": 10,
   "metadata": {
    "collapsed": true
   },
   "outputs": [],
   "source": [
    "# create datatime format for \"received time\" and \"cleared time\"\n",
    "df_clean['received time'] =df_clean['Received Time'].apply(lambda x: datetime.datetime.strptime(x,'%m/%d/%Y %X %p'))\n",
    "df_clean['cleared time'] =df_clean['Cleared Time'].apply(lambda x: datetime.datetime.strptime(x,'%m/%d/%Y %X %p'))"
   ]
  },
  {
   "cell_type": "code",
   "execution_count": 11,
   "metadata": {
    "collapsed": true
   },
   "outputs": [],
   "source": [
    "# create flag for line open or not\n",
    "open_date = datetime.datetime(2016, 5, 20)\n",
    "df_clean['Line_Open'] = df_clean['received time'] >= open_date\n",
    "\n",
    "# add month, year, day of week features\n",
    "df_clean['Month'] = df_clean['received time'].dt.month\n",
    "df_clean['Year'] = df_clean['received time'].dt.year\n",
    "df_clean['Day_Of_Week'] = df_clean['received time'].dt.dayofweek\n",
    "\n",
    "# create delta between crime and open\n",
    "df_clean['Day_Delta'] = (df_clean['received time'] - open_date).dt.days\n",
    "# create solving time (unit: min) between received time and cleared time, replace 0 with nan\n",
    "df_clean['Solving Time'] = (df_clean[\"cleared time\"] - df_clean['received time']).apply(lambda x: round(x.seconds/60,2))\n"
   ]
  },
  {
   "cell_type": "code",
   "execution_count": 12,
   "metadata": {
    "collapsed": true
   },
   "outputs": [],
   "source": [
    "df_clean.loc[(df_clean['time mark']==False) & (df_clean['Solving Time'] == 0),'Solving Time'] = np.NaN"
   ]
  },
  {
   "cell_type": "code",
   "execution_count": 13,
   "metadata": {},
   "outputs": [
    {
     "data": {
      "text/plain": [
       "Incident Number           0\n",
       "Call Type             17006\n",
       "Incident Date             0\n",
       "Location               1991\n",
       "Beat                    126\n",
       "Reporting District      363\n",
       "Received Time             0\n",
       "Cleared Time              0\n",
       "Disposition            3846\n",
       "Latitude              59126\n",
       "Longitude             59126\n",
       "time mark                 0\n",
       "received time             0\n",
       "cleared time              0\n",
       "Line_Open                 0\n",
       "Month                     0\n",
       "Year                      0\n",
       "Day_Of_Week               0\n",
       "Day_Delta                 0\n",
       "Solving Time           3560\n",
       "dtype: int64"
      ]
     },
     "execution_count": 13,
     "metadata": {},
     "output_type": "execute_result"
    }
   ],
   "source": [
    "df_clean.isnull().sum()"
   ]
  },
  {
   "cell_type": "code",
   "execution_count": 14,
   "metadata": {},
   "outputs": [
    {
     "data": {
      "text/plain": [
       "True    1407125\n",
       "Name: delayed report, dtype: int64"
      ]
     },
     "execution_count": 14,
     "metadata": {},
     "output_type": "execute_result"
    }
   ],
   "source": [
    "#check if incident date is the same date of received date\n",
    "df_clean['incident date'] =df_clean['Incident Date'].apply(lambda x: datetime.datetime.strptime(x,'%m/%d/%Y'))\n",
    "df_clean['delayed report'] = (df_clean['incident date'].apply(lambda x: x.date()) \n",
    "                             == df_clean['received time'].apply(lambda x: x.date()))\n",
    "df_clean['delayed report'].value_counts()"
   ]
  },
  {
   "cell_type": "code",
   "execution_count": 15,
   "metadata": {
    "collapsed": true
   },
   "outputs": [],
   "source": [
    "#drop incident date, time mark, cleared time, delayed report \n",
    "df_clean = df_clean.drop(['Incident Date','Cleared Time','delayed report'],axis = 1)"
   ]
  },
  {
   "cell_type": "code",
   "execution_count": 16,
   "metadata": {},
   "outputs": [
    {
     "data": {
      "text/plain": [
       "Incident Number           0\n",
       "Call Type             17006\n",
       "Location               1991\n",
       "Beat                    126\n",
       "Reporting District      363\n",
       "Received Time             0\n",
       "Disposition            3846\n",
       "Latitude              59126\n",
       "Longitude             59126\n",
       "time mark                 0\n",
       "received time             0\n",
       "cleared time              0\n",
       "Line_Open                 0\n",
       "Month                     0\n",
       "Year                      0\n",
       "Day_Of_Week               0\n",
       "Day_Delta                 0\n",
       "Solving Time           3560\n",
       "incident date             0\n",
       "dtype: int64"
      ]
     },
     "execution_count": 16,
     "metadata": {},
     "output_type": "execute_result"
    }
   ],
   "source": [
    "df_clean.isnull().sum()"
   ]
  },
  {
   "cell_type": "markdown",
   "metadata": {
    "collapsed": true
   },
   "source": [
    "### categorize call type"
   ]
  },
  {
   "cell_type": "markdown",
   "metadata": {},
   "source": [
    "#### .../Data/call type.csv is used to categorize 255 different call types in the dataset. Two extra columns are added to mark if the call is \"violent\" related or \"larceny\" related. Different from the data in crime dataset, there is no call type directly named \"larceny\". Therefore, types such as \"theft, GTA, burglary\" are treated as \"larceny\" related. "
   ]
  },
  {
   "cell_type": "code",
   "execution_count": 30,
   "metadata": {
    "collapsed": true
   },
   "outputs": [],
   "source": [
    "df_call = pd.read_csv('./Data/call_type.csv')"
   ]
  },
  {
   "cell_type": "code",
   "execution_count": 31,
   "metadata": {},
   "outputs": [
    {
     "data": {
      "text/plain": [
       "Index(['Call Type', 'Count', 'Violent', 'Larceny', 'Check'], dtype='object')"
      ]
     },
     "execution_count": 31,
     "metadata": {},
     "output_type": "execute_result"
    }
   ],
   "source": [
    "df_call.columns"
   ]
  },
  {
   "cell_type": "code",
   "execution_count": 39,
   "metadata": {},
   "outputs": [],
   "source": [
    "violent = dict(zip(df_call['Call Type'],df_call['Violent']))\n",
    "violent[np.nan] = np.nan\n",
    "df_clean['Violent'] = df_clean['Call Type'].apply(lambda x: violent[x])"
   ]
  },
  {
   "cell_type": "code",
   "execution_count": 40,
   "metadata": {},
   "outputs": [],
   "source": [
    "larceny = dict(zip(df_call['Call Type'],df_call['Larceny']))\n",
    "larceny[np.nan] = np.nan\n",
    "df_clean['Larceny'] = df_clean['Call Type'].apply(lambda x: larceny[x])"
   ]
  },
  {
   "cell_type": "markdown",
   "metadata": {},
   "source": [
    "#### check column is used to mark if the call type is interesting to check for this project "
   ]
  },
  {
   "cell_type": "code",
   "execution_count": 42,
   "metadata": {},
   "outputs": [],
   "source": [
    "check = dict(zip(df_call['Call Type'],df_call['Check']))\n",
    "check[np.nan] = 0\n",
    "df_clean['Check'] = df_clean['Call Type'].apply(lambda x: check[x])"
   ]
  },
  {
   "cell_type": "code",
   "execution_count": 43,
   "metadata": {},
   "outputs": [
    {
     "data": {
      "text/plain": [
       "Incident Number                    130023841\n",
       "Call Type                         Loud Music\n",
       "Location                     3000BLK MAIN ST\n",
       "Beat                                    A002\n",
       "Reporting District                      02D1\n",
       "Received Time         03/01/2013 12:00:40 AM\n",
       "Disposition                          Advisal\n",
       "Latitude                             33.9983\n",
       "Longitude                            -118.48\n",
       "time mark                              False\n",
       "received time            2013-03-01 12:00:40\n",
       "cleared time             2013-03-01 12:09:57\n",
       "Line_Open                              False\n",
       "Month                                      3\n",
       "Year                                    2013\n",
       "Day_Of_Week                                4\n",
       "Day_Delta                              -1176\n",
       "Solving Time                            9.28\n",
       "incident date            2013-03-01 00:00:00\n",
       "Violent                                    0\n",
       "Larceny                                    0\n",
       "Check                                      0\n",
       "Name: 0, dtype: object"
      ]
     },
     "execution_count": 43,
     "metadata": {},
     "output_type": "execute_result"
    }
   ],
   "source": [
    "df_clean.loc[0]"
   ]
  },
  {
   "cell_type": "markdown",
   "metadata": {},
   "source": [
    "#### convert dataframe into pickle file"
   ]
  },
  {
   "cell_type": "code",
   "execution_count": 48,
   "metadata": {
    "collapsed": true
   },
   "outputs": [],
   "source": [
    "import pickle"
   ]
  },
  {
   "cell_type": "code",
   "execution_count": 50,
   "metadata": {
    "collapsed": true
   },
   "outputs": [],
   "source": [
    "df_1,df_2,df_3 = np.array_split(df_clean,3)"
   ]
  },
  {
   "cell_type": "code",
   "execution_count": 51,
   "metadata": {},
   "outputs": [],
   "source": [
    "with open('./Data/cleaned_call_for_service_1','wb') as f:\n",
    "    pickle.dump(df_1,f)"
   ]
  },
  {
   "cell_type": "code",
   "execution_count": 52,
   "metadata": {
    "collapsed": true
   },
   "outputs": [],
   "source": [
    "with open('./Data/cleaned_call_for_service_2','wb') as f:\n",
    "    pickle.dump(df_2,f)"
   ]
  },
  {
   "cell_type": "code",
   "execution_count": 53,
   "metadata": {
    "collapsed": true
   },
   "outputs": [],
   "source": [
    "with open('./Data/cleaned_call_for_service_3','wb') as f:\n",
    "    pickle.dump(df_3,f)"
   ]
  }
 ],
 "metadata": {
  "kernelspec": {
   "display_name": "Python 3",
   "language": "python",
   "name": "python3"
  },
  "language_info": {
   "codemirror_mode": {
    "name": "ipython",
    "version": 3
   },
   "file_extension": ".py",
   "mimetype": "text/x-python",
   "name": "python",
   "nbconvert_exporter": "python",
   "pygments_lexer": "ipython3",
   "version": "3.6.2"
  }
 },
 "nbformat": 4,
 "nbformat_minor": 2
}
