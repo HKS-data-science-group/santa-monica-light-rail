{
 "cells": [
  {
   "cell_type": "code",
   "execution_count": 1,
   "metadata": {
    "collapsed": true
   },
   "outputs": [],
   "source": [
    "import pandas as pd\n",
    "from scipy.stats import ttest_rel\n",
    "import datetime"
   ]
  },
  {
   "cell_type": "code",
   "execution_count": 2,
   "metadata": {},
   "outputs": [
    {
     "name": "stderr",
     "output_type": "stream",
     "text": [
      "/anaconda/lib/python3.6/site-packages/IPython/core/interactiveshell.py:2717: DtypeWarning: Columns (1,3) have mixed types. Specify dtype option on import or set low_memory=False.\n",
      "  interactivity=interactivity, compiler=compiler, result=result)\n"
     ]
    }
   ],
   "source": [
    "df = pd.read_csv('./Data/Police_Incidents_grid.csv')\n",
    "df['Date Occurred'] = pd.to_datetime(df['Date Occurred'])"
   ]
  },
  {
   "cell_type": "code",
   "execution_count": 3,
   "metadata": {},
   "outputs": [],
   "source": [
    "df['Latitude_round'] = df['Latitude'].round(2)\n",
    "df['Longitude_round'] = df['Longitude'].round(2)\n",
    "df['grid'] = df['Latitude_round'].astype(str) + ',' + df['Longitude_round'].astype(str)"
   ]
  },
  {
   "cell_type": "code",
   "execution_count": 4,
   "metadata": {},
   "outputs": [],
   "source": [
    "line_open = datetime.date(2016, 5, 20)\n",
    "line_open_before = line_open - datetime.timedelta(days = 365)\n",
    "line_open_after = line_open + datetime.timedelta(days = 365)"
   ]
  },
  {
   "cell_type": "code",
   "execution_count": 5,
   "metadata": {},
   "outputs": [],
   "source": [
    "df_before = df[(df['Date Occurred'] >= line_open_before) & (df['Date Occurred'] < line_open)][['Date Occurred', 'grid']]\n",
    "df_before = df_before.groupby(['grid', 'Date Occurred']).size().reset_index()\n",
    "df_before.columns = ['Grid', 'Date', 'Count']\n",
    "before_data = []\n",
    "for grid in df['grid'].unique():\n",
    "    for i in range(1, 366):\n",
    "        date = line_open - datetime.timedelta(days = i)\n",
    "        relevant_item = df_before[(df_before['Grid'] == grid) & (df_before['Date'] == date)]\n",
    "        if relevant_item.shape[0] > 0:\n",
    "            crimes = relevant_item.iloc[0][\"Count\"]\n",
    "        else:\n",
    "            crimes = 0\n",
    "        before_data.append({\"Grid\":grid, \"Date\":date, \"Count\":crimes})\n",
    "df_before = pd.DataFrame(before_data)"
   ]
  },
  {
   "cell_type": "code",
   "execution_count": 6,
   "metadata": {},
   "outputs": [],
   "source": [
    "df_after = df[(df['Date Occurred'] <= line_open_after) & (df['Date Occurred'] > line_open)][['Date Occurred', 'grid']]\n",
    "df_after = df_after.groupby(['grid', 'Date Occurred']).size().reset_index()\n",
    "df_after.columns = ['Grid', 'Date', 'Count']\n",
    "after_data = []\n",
    "for grid in df['grid'].unique():\n",
    "    for i in range(1, 366):\n",
    "        date = line_open + datetime.timedelta(days = i)\n",
    "        relevant_item = df_after[(df_after['Grid'] == grid) & (df_after['Date'] == date)]\n",
    "        if relevant_item.shape[0] > 0:\n",
    "            crimes = relevant_item.iloc[0][\"Count\"]\n",
    "        else:\n",
    "            crimes = 0\n",
    "        after_data.append({\"Grid\":grid, \"Date\":date, \"Count\":crimes})\n",
    "df_after = pd.DataFrame(after_data)"
   ]
  },
  {
   "cell_type": "code",
   "execution_count": 7,
   "metadata": {},
   "outputs": [],
   "source": [
    "ttest_data = []\n",
    "for grid in df['grid'].unique():\n",
    "    before = df_before[df_before['Grid'] == grid]['Count'].values\n",
    "    after = df_after[df_after['Grid'] == grid]['Count'].values\n",
    "    ttest = ttest_rel(before, after)\n",
    "    ttest_data.append({\"Grid\":grid, \"Statistic\":ttest.statistic, \"P-Value\":ttest.pvalue})\n",
    "df_ttest = pd.DataFrame(ttest_data)"
   ]
  },
  {
   "cell_type": "code",
   "execution_count": 8,
   "metadata": {},
   "outputs": [],
   "source": [
    "df_ttest.to_csv('./Data/grid-ttest.csv', index = False)"
   ]
  }
 ],
 "metadata": {
  "kernelspec": {
   "display_name": "Python 3",
   "language": "python",
   "name": "python3"
  },
  "language_info": {
   "codemirror_mode": {
    "name": "ipython",
    "version": 3
   },
   "file_extension": ".py",
   "mimetype": "text/x-python",
   "name": "python",
   "nbconvert_exporter": "python",
   "pygments_lexer": "ipython3",
   "version": "3.6.1"
  }
 },
 "nbformat": 4,
 "nbformat_minor": 2
}
