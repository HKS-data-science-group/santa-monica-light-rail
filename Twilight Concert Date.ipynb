{
 "cells": [
  {
   "cell_type": "code",
   "execution_count": 1,
   "metadata": {
    "collapsed": true
   },
   "outputs": [],
   "source": [
    "import pickle\n",
    "import pandas as pd"
   ]
  },
  {
   "cell_type": "code",
   "execution_count": 2,
   "metadata": {
    "collapsed": true
   },
   "outputs": [],
   "source": [
    "df_1 = pickle.load(open('./Data/cleaned_call_for_service_1','rb'))\n",
    "df_2 = pickle.load(open('./Data/cleaned_call_for_service_2','rb'))\n",
    "df_3 = pickle.load(open('./Data/cleaned_call_for_service_3','rb'))"
   ]
  },
  {
   "cell_type": "code",
   "execution_count": 3,
   "metadata": {
    "collapsed": true
   },
   "outputs": [],
   "source": [
    "call = pd.concat([df_1,df_2,df_3])"
   ]
  },
  {
   "cell_type": "code",
   "execution_count": 4,
   "metadata": {
    "collapsed": true
   },
   "outputs": [],
   "source": [
    "import datetime\n",
    "open_date = datetime.datetime(2016, 5, 20)"
   ]
  },
  {
   "cell_type": "code",
   "execution_count": 5,
   "metadata": {
    "collapsed": true
   },
   "outputs": [],
   "source": [
    "import matplotlib.pyplot as plt\n",
    "%matplotlib inline\n",
    "import numpy as np"
   ]
  },
  {
   "cell_type": "markdown",
   "metadata": {},
   "source": [
    "### Twilight Concert Date "
   ]
  },
  {
   "cell_type": "code",
   "execution_count": 6,
   "metadata": {},
   "outputs": [],
   "source": [
    "twilight = pd.DataFrame(columns = ['performance','data'])"
   ]
  },
  {
   "cell_type": "markdown",
   "metadata": {},
   "source": [
    "#### 2010"
   ]
  },
  {
   "cell_type": "code",
   "execution_count": 7,
   "metadata": {
    "collapsed": true
   },
   "outputs": [],
   "source": [
    "#July 8\n",
    "Indie_Rock_1 = datetime.datetime(2010, 7, 8)\n",
    "#July 15\n",
    "Classic_80 = datetime.datetime(2010, 7, 15)\n",
    "#July 22\n",
    "Reggae = datetime.datetime(2010,7,22)\n",
    "#July 29\n",
    "Latin = datetime.datetime(2010,7,29)\n",
    "# August 5\n",
    "Dance = datetime.datetime(2010,8,5)\n",
    "# August 12\n",
    "Classic = datetime.datetime(2010,8,12)\n",
    "# August 19\n",
    "_90_Alt = datetime.datetime(2010,8,19)\n",
    "# August 26\n",
    "Indie_Rock_2 = datetime.datetime(2010,8,26)\n",
    "# September 2\n",
    "Disco = datetime.datetime(2010,9,2)\n",
    "\n",
    "\n",
    "twilight_2010 =pd.DataFrame({'performance':[\"Indie_Rock_1\",\"Classic_80\",'Reggae',\n",
    "                              'Latin', \"Dance\",'Classic',\n",
    "                             \"_90_Alt\",'Indie_Rock_2','Disco'],\n",
    "                             'date':[Indie_Rock_1,Classic_80,Reggae,\n",
    "                              Latin,Dance,Classic,\n",
    "                              _90_Alt,Indie_Rock_2,Disco]}\n",
    "                            )"
   ]
  },
  {
   "cell_type": "markdown",
   "metadata": {},
   "source": [
    "#### 2011"
   ]
  },
  {
   "cell_type": "code",
   "execution_count": 8,
   "metadata": {
    "collapsed": true
   },
   "outputs": [],
   "source": [
    "#July 7\n",
    "Indie_Rock_1 = datetime.datetime(2011, 7, 7)\n",
    "#July 14\n",
    "Classic_80 = datetime.datetime(2011, 7, 14)\n",
    "#July 21\n",
    "Reggae = datetime.datetime(2011,7,21)\n",
    "#July 28\n",
    "Latin = datetime.datetime(2011,7,28)\n",
    "# August 4\n",
    "Dance = datetime.datetime(2011,8,4)\n",
    "# August 11\n",
    "Classic = datetime.datetime(2011,8,11)\n",
    "# August 18\n",
    "_90_Alt = datetime.datetime(2011,8,18)\n",
    "# August 25\n",
    "Indie_Rock_2 = datetime.datetime(2011,8,25)\n",
    "# September 1\n",
    "Disco = datetime.datetime(2011,9,1)\n",
    "# September 8\n",
    "Disco_2 = datetime.datetime(2011,9,8)\n",
    "\n",
    "twilight_2011 =pd.DataFrame({'performance':[\"Indie_Rock_1\",\"Classic_80\",'Reggae',\n",
    "                              'Latin', \"Dance\",'Classic',\n",
    "                             \"_90_Alt\",'Indie_Rock_2','Disco','Disco_2'],\n",
    "                             'date':[Indie_Rock_1,Classic_80,Reggae,\n",
    "                              Latin,Dance,Classic,\n",
    "                              _90_Alt,Indie_Rock_2,Disco,Disco_2]}\n",
    "                            )"
   ]
  },
  {
   "cell_type": "markdown",
   "metadata": {},
   "source": [
    "#### 2012"
   ]
  },
  {
   "cell_type": "code",
   "execution_count": 9,
   "metadata": {
    "collapsed": true
   },
   "outputs": [],
   "source": [
    "#July 5\n",
    "Indie_Rock_1 = datetime.datetime(2012, 7, 5)\n",
    "#July 12\n",
    "Classic_80 = datetime.datetime(2012, 7, 12)\n",
    "#July 19\n",
    "Reggae = datetime.datetime(2012,7,19)\n",
    "#July 26\n",
    "Latin = datetime.datetime(2012,7,26)\n",
    "# August 2\n",
    "Dance = datetime.datetime(2012,8,2)\n",
    "# August 9\n",
    "Classic = datetime.datetime(2012,8, 9)\n",
    "# August 16\n",
    "_90_Alt = datetime.datetime(2012,8,16)\n",
    "# August 23\n",
    "Indie_Rock_2 = datetime.datetime(2012,8,23)\n",
    "# August 30\n",
    "Disco = datetime.datetime(2012,8,30)\n",
    "# September 6\n",
    "Disco_2 = datetime.datetime(2012,9,6)\n",
    "\n",
    "twilight_2012 =pd.DataFrame({'performance':[\"Indie_Rock_1\",\"Classic_80\",'Reggae',\n",
    "                              'Latin', \"Dance\",'Classic',\n",
    "                             \"_90_Alt\",'Indie_Rock_2','Disco','Disco_2'],\n",
    "                             'date':[Indie_Rock_1,Classic_80,Reggae,\n",
    "                              Latin,Dance,Classic,\n",
    "                              _90_Alt,Indie_Rock_2,Disco,Disco_2]}\n",
    "                            )"
   ]
  },
  {
   "cell_type": "markdown",
   "metadata": {},
   "source": [
    "#### 2013"
   ]
  },
  {
   "cell_type": "code",
   "execution_count": 10,
   "metadata": {
    "collapsed": true
   },
   "outputs": [],
   "source": [
    "#July 11\n",
    "Indie_Rock_1 = datetime.datetime(2013, 7, 11)\n",
    "#July 18\n",
    "Classic_80 = datetime.datetime(2013, 7, 18)\n",
    "#July 25\n",
    "Reggae = datetime.datetime(2013,7,25)\n",
    "# August 1\n",
    "Latin = datetime.datetime(2013,8,1)\n",
    "# August 8\n",
    "Dance = datetime.datetime(2013,8, 8)\n",
    "# August 15\n",
    "Classic = datetime.datetime(2013, 8, 15)\n",
    "# August 22\n",
    "_90_Alt = datetime.datetime(2013,8,22)\n",
    "# August 29\n",
    "Indie_Rock_2 = datetime.datetime(2013,8,29)\n",
    "# September 5\n",
    "Disco = datetime.datetime(2013,9,5)\n",
    "# September 9\n",
    "Disco_2 = datetime.datetime(2013,9,9)\n",
    "\n",
    "twilight_2013 =pd.DataFrame({'performance':[\"Indie_Rock_1\",\"Classic_80\",'Reggae',\n",
    "                              'Latin', \"Dance\",'Classic',\n",
    "                             \"_90_Alt\",'Indie_Rock_2','Disco','Disco_2'],\n",
    "                             'date':[Indie_Rock_1,Classic_80,Reggae,\n",
    "                              Latin,Dance,Classic,\n",
    "                              _90_Alt,Indie_Rock_2,Disco,Disco_2]}\n",
    "                            )"
   ]
  },
  {
   "cell_type": "markdown",
   "metadata": {},
   "source": [
    "#### 2014"
   ]
  },
  {
   "cell_type": "code",
   "execution_count": 11,
   "metadata": {
    "collapsed": true
   },
   "outputs": [],
   "source": [
    "#July 10\n",
    "Indie_Rock_1 = datetime.datetime(2014, 7, 10)\n",
    "#July 17\n",
    "Classic_80 = datetime.datetime(2014, 7, 17)\n",
    "#July 24\n",
    "Reggae = datetime.datetime(2014,7,24)\n",
    "# July 31\n",
    "Latin = datetime.datetime(2014, 7, 31)\n",
    "# August 7\n",
    "Dance = datetime.datetime(2014, 8, 7)\n",
    "# August 14\n",
    "Classic = datetime.datetime(2014, 8, 14)\n",
    "# August 21\n",
    "_90_Alt = datetime.datetime(2014,8,21)\n",
    "# August 28\n",
    "Indie_Rock_2 = datetime.datetime(2014,8,28)\n",
    "# September 11\n",
    "Disco = datetime.datetime(2014,9,11)\n",
    "\n",
    "twilight_2014 =pd.DataFrame({'performance':[\"Indie_Rock_1\",\"Classic_80\",'Reggae',\n",
    "                              'Latin', \"Dance\",'Classic',\n",
    "                             \"_90_Alt\",'Indie_Rock_2','Disco'],\n",
    "                             'date':[Indie_Rock_1,Classic_80,Reggae,\n",
    "                              Latin,Dance,Classic,\n",
    "                              _90_Alt,Indie_Rock_2,Disco]}\n",
    "                            )"
   ]
  },
  {
   "cell_type": "markdown",
   "metadata": {},
   "source": [
    "#### 2015"
   ]
  },
  {
   "cell_type": "code",
   "execution_count": 12,
   "metadata": {
    "collapsed": true
   },
   "outputs": [],
   "source": [
    "#July 9\n",
    "Indie_Rock_1 = datetime.datetime(2015, 7, 9)\n",
    "#July 16\n",
    "Classic_80 = datetime.datetime(2015, 7, 16)\n",
    "#July 23\n",
    "Reggae = datetime.datetime(2015,7,23)\n",
    "# July 30\n",
    "Latin = datetime.datetime(2015, 7, 30)\n",
    "# August 6\n",
    "Dance = datetime.datetime(2015, 8, 6)\n",
    "# August 13\n",
    "Classic = datetime.datetime(2015, 8, 13)\n",
    "# August 20\n",
    "_90_Alt = datetime.datetime(2015,8,20)\n",
    "# August 27\n",
    "Indie_Rock_2 = datetime.datetime(2015,8,27)\n",
    "# September 3\n",
    "Disco = datetime.datetime(2015,9,3)\n",
    "\n",
    "twilight_2015 =pd.DataFrame({'performance':[\"Indie_Rock_1\",\"Classic_80\",'Reggae',\n",
    "                              'Latin', \"Dance\",'Classic',\n",
    "                             \"_90_Alt\",'Indie_Rock_2','Disco'],\n",
    "                             'date':[Indie_Rock_1,Classic_80,Reggae,\n",
    "                              Latin,Dance,Classic,\n",
    "                              _90_Alt,Indie_Rock_2,Disco]}\n",
    "                            )"
   ]
  },
  {
   "cell_type": "markdown",
   "metadata": {},
   "source": [
    "#### 2016 "
   ]
  },
  {
   "cell_type": "code",
   "execution_count": 13,
   "metadata": {},
   "outputs": [],
   "source": [
    "#July 14\n",
    "Indie_Rock_1 = datetime.datetime(2016, 7, 14)\n",
    "#July 21\n",
    "Classic_80 = datetime.datetime(2016, 7, 21)\n",
    "#July 28\n",
    "Reggae = datetime.datetime(2016,7,28)\n",
    "# August 4\n",
    "Latin = datetime.datetime(2016, 8, 4)\n",
    "# August 11\n",
    "Dance = datetime.datetime(2016, 8, 11)\n",
    "# August 18\n",
    "Classic = datetime.datetime(2016, 8, 18)\n",
    "# August 25\n",
    "_90_Alt = datetime.datetime(2016,8,25)\n",
    "# September 1\n",
    "Indie_Rock_2 = datetime.datetime(2016,9,1)\n",
    "# September 8\n",
    "Disco = datetime.datetime(2016,9,8)\n",
    "\n",
    "twilight_2016 =pd.DataFrame({'performance':[\"Indie_Rock_1\",\"Classic_80\",'Reggae',\n",
    "                              'Latin', \"Dance\",'Classic',\n",
    "                             \"_90_Alt\",'Indie_Rock_2','Disco'],\n",
    "                             'date':[Indie_Rock_1,Classic_80,Reggae,\n",
    "                              Latin,Dance,Classic,\n",
    "                              _90_Alt,Indie_Rock_2,Disco]}\n",
    "                            )"
   ]
  },
  {
   "cell_type": "markdown",
   "metadata": {},
   "source": [
    "#### 2017"
   ]
  },
  {
   "cell_type": "code",
   "execution_count": 15,
   "metadata": {},
   "outputs": [],
   "source": [
    "#June 22\n",
    "Indie_Rock_0 = datetime.datetime(2017, 6, 22)\n",
    "#June 29\n",
    "Indie_Rock_1 = datetime.datetime(2017, 6, 29)\n",
    "#July 13\n",
    "Classic_80 = datetime.datetime(2017, 7, 13)\n",
    "#July 20\n",
    "Reggae = datetime.datetime(2017,7,27)\n",
    "# August 3\n",
    "Latin = datetime.datetime(2017, 8, 3)\n",
    "# August 10\n",
    "Dance = datetime.datetime(2017, 8, 10)\n",
    "# August 17\n",
    "Classic = datetime.datetime(2017, 8, 17)\n",
    "\n",
    "\n",
    "twilight_2017 =pd.DataFrame({'performance':[\"Indie_Rock_1\",\"Indie_Rock_0\",\"Classic_80\",'Reggae',\n",
    "                              'Latin', \"Dance\",'Classic'],\n",
    "                             'date':[Indie_Rock_0,Indie_Rock_1,Classic_80,Reggae,\n",
    "                              Latin,Dance,Classic]}\n",
    "                            )"
   ]
  },
  {
   "cell_type": "code",
   "execution_count": 16,
   "metadata": {
    "collapsed": true
   },
   "outputs": [],
   "source": [
    "twilight = pd.concat([twilight_2010,\n",
    "                     twilight_2011,\n",
    "                     twilight_2012,\n",
    "                     twilight_2013,\n",
    "                     twilight_2014,\n",
    "                     twilight_2015,\n",
    "                     twilight_2016,\n",
    "                     twilight_2017])"
   ]
  },
  {
   "cell_type": "code",
   "execution_count": 21,
   "metadata": {},
   "outputs": [],
   "source": [
    "twilight = twilight.reset_index(drop = True)\n",
    "twilight = twilight.drop(['performance'],axis = 1)"
   ]
  },
  {
   "cell_type": "code",
   "execution_count": 24,
   "metadata": {},
   "outputs": [],
   "source": [
    "with open('./Data/twilight_date','wb') as f:\n",
    "    pickle.dump(twilight,f)"
   ]
  }
 ],
 "metadata": {
  "kernelspec": {
   "display_name": "Python 3",
   "language": "python",
   "name": "python3"
  },
  "language_info": {
   "codemirror_mode": {
    "name": "ipython",
    "version": 3
   },
   "file_extension": ".py",
   "mimetype": "text/x-python",
   "name": "python",
   "nbconvert_exporter": "python",
   "pygments_lexer": "ipython3",
   "version": "3.6.2"
  }
 },
 "nbformat": 4,
 "nbformat_minor": 2
}
